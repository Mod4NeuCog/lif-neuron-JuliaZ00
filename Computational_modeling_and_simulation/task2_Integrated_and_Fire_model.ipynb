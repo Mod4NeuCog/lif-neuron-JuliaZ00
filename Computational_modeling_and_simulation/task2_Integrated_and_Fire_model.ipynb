{
 "cells": [
  {
   "cell_type": "markdown",
   "id": "ae0eb834",
   "metadata": {},
   "source": [
    "In this model the sigmoid transition function is replaced by an Integrate and Fire (IF) one. \n",
    "\n",
    "In Integrate and Fire (IF) models action potentials are described as events.\n",
    "\n",
    "A neuron's behavior is based on the integration of inputs (signals) over time and firing an output spike when a certain threshold is reached. The neuron's membrane potential represents the integration of inputs. It starts at a resting value and accumulates the inputs over time. If the membrane potential reaches a threshold, the neuron fires an output spike and resets the membrane potential to resting state."
   ]
  },
  {
   "cell_type": "code",
   "execution_count": 3,
   "id": "fd083510",
   "metadata": {},
   "outputs": [],
   "source": [
    "import numpy as np"
   ]
  },
  {
   "cell_type": "code",
   "execution_count": 2,
   "id": "99f3d9a7",
   "metadata": {},
   "outputs": [],
   "source": [
    "#We again create a Neuron class, however the activation mechanism of the neuron is different, as explained above. \n",
    "\n",
    "class Neuron:\n",
    "    def __init__(self, weights, threshold):\n",
    "        #We initialize the neuron with given weights and threshold.\n",
    "        self.weights = weights\n",
    "        self.threshold = threshold\n",
    "        self.membrane_potential = -0.7\n",
    "\n",
    "    def forward(self, inputs):\n",
    "        #We calculate the weighted sum of inputs.\n",
    "        total = np.dot(inputs, self.weights)\n",
    "        #We integrate the inputs by adding them to the membrane potential.\n",
    "        self.membrane_potential += total\n",
    "        #We check if the threshold is reached.\n",
    "        if self.membrane_potential >= self.threshold:\n",
    "            #We fire an output spike\n",
    "            output = 1\n",
    "            #and reset the membrane potential.\n",
    "            self.membrane_potential = -0.7\n",
    "        else:\n",
    "            output = 0\n",
    "        return output"
   ]
  },
  {
   "cell_type": "code",
   "execution_count": 3,
   "id": "ccda816a",
   "metadata": {},
   "outputs": [],
   "source": [
    "#We create a Layer class\n",
    "class Layer:\n",
    "    def __init__(self, weights, threshold):\n",
    "        #We initialize the layer with neurons\n",
    "        self.neurons = []\n",
    "        for w in weights:\n",
    "            #We create a neuron with given weights and threshold\n",
    "            self.neurons.append(Neuron(w, threshold))\n",
    "\n",
    "    def forward(self, inputs):\n",
    "        #We use function forward to do a forward path through the layer \n",
    "        #and calculate the weighted sum of incoming connections.\n",
    "        outputs = []\n",
    "        for neuron in self.neurons:\n",
    "            #We compute the output of each neuron in the layer.\n",
    "            output = neuron.forward(inputs)\n",
    "            outputs.append(output)\n",
    "        return np.array(outputs) #We return the list of outputs."
   ]
  },
  {
   "cell_type": "code",
   "execution_count": 4,
   "id": "eee25b7f",
   "metadata": {},
   "outputs": [],
   "source": [
    "class NeuralNetwork:\n",
    "    def __init__(self, weights_hidden, weights_output, threshold_hidden, threshold_output):\n",
    "        #We initialize the neural network with hidden layer and output layer.\n",
    "        self.hidden_layer = Layer(weights_hidden, threshold_hidden)\n",
    "        self.output_layer = Layer(weights_output, threshold_output)\n",
    "\n",
    "    def forward(self, inputs):\n",
    "        #We perform the forward path through the ANN.\n",
    "        hidden_outputs = self.hidden_layer.forward(inputs)\n",
    "        output_outputs = self.output_layer.forward(hidden_outputs)\n",
    "        return output_outputs "
   ]
  },
  {
   "cell_type": "code",
   "execution_count": 5,
   "id": "047389a2",
   "metadata": {},
   "outputs": [
    {
     "name": "stdout",
     "output_type": "stream",
     "text": [
      "[0 0]\n"
     ]
    }
   ],
   "source": [
    "input_neurons = 5\n",
    "hidden_neurons = 3\n",
    "outputs_neurons = 2\n",
    "\n",
    "#We define weights for hidden layer,\n",
    "weights_hidden = [\n",
    "    [0.1, 0.9, 0.3, 0.7, 0.5],  # Neuron 1 weights\n",
    "    [0.1, 0.2, 0.3, 0.4, 0.3],  # Neuron 2 weights\n",
    "    [0.3, 0.6, 0.1, 0.2, 0.5]   # Neuron 3 weights\n",
    "]\n",
    "\n",
    "#and weights for output layer. \n",
    "weights_output = [\n",
    "    [0.3, 0.5, 0.2],  # Neuron 1 weights\n",
    "    [0.1, 0.4, 0.6]   # Neuron 2 weights\n",
    "]\n",
    "\n",
    "#We define threshold values for hidden and output layers\n",
    "threshold_hidden = 0.5\n",
    "threshold_output = 0.7\n",
    "\n",
    "#Here we create neural network (with provided weights and thresholds).\n",
    "network = NeuralNetwork(weights_hidden, weights_output, threshold_hidden, threshold_output)\n",
    "\n",
    "inputs = [0.7,0.4,0.3,0.4,0.2]\n",
    "\n",
    "#We perform forward path through the network.\n",
    "outputs = network.forward(inputs)\n",
    "print(outputs)"
   ]
  },
  {
   "cell_type": "code",
   "execution_count": 4,
   "id": "3d3c677a",
   "metadata": {},
   "outputs": [],
   "source": [
    "#The model based on the second code from task 1 - using the activation function not forward one \n",
    "\n",
    "class Neuron:\n",
    "    def __init__(self, weights, threshold):\n",
    "        self.weights = weights  \n",
    "        self.threshold = threshold  #The threshold for firing\n",
    "        self.membrane_potential = 0.0  #The accumulated input signal\n",
    "        self.activation = 0  #The output activation state\n",
    "        \n",
    "        \n",
    "#The integrate_fire function integrates the inputs by summing the weighted values and checks if the membrane potential exceeds the threshold. \n",
    "#If it does, the neuron fires an output spike (activation = 1) and resets the membrane potential to 0. Otherwise, the activation remains 0.\n",
    "    def integrate_fire(self, inputs): \n",
    "        #So we integrate the inputs by summing weighted values\n",
    "        self.membrane_potential += np.dot(inputs, self.weights)\n",
    "        \n",
    "\n",
    "        #We check if the membrane potential exceeds the threshold\n",
    "        if np.any(self.membrane_potential > self.threshold):  #We update comparison here\n",
    "            #and fire an output spike.\n",
    "            self.activation = 1\n",
    "            #We reset the membrane potential.\n",
    "            self.membrane_potential = 0.0\n",
    "        else:\n",
    "            self.activation = 0"
   ]
  },
  {
   "cell_type": "code",
   "execution_count": 5,
   "id": "da0a4101",
   "metadata": {},
   "outputs": [],
   "source": [
    "class NeuralNetwork:\n",
    "    def __init__(self, input_neurons, hidden_neurons, output_neurons, threshold_hidden, threshold_output):\n",
    "        self.input_neurons = input_neurons \n",
    "        self.hidden_neurons = hidden_neurons \n",
    "        self.output_neurons = output_neurons  \n",
    "        self.threshold_hidden = threshold_hidden  \n",
    "        self.threshold_output = threshold_output  \n",
    "        self.hidden_weights = np.random.random((hidden_neurons, input_neurons)) \n",
    "        self.output_weights = np.random.random((output_neurons, hidden_neurons))  \n",
    "\n",
    "    def forward(self, inputs):\n",
    "        hidden_outputs = self.activate_layer(inputs, self.hidden_weights, self.threshold_hidden)  #We activate hidden layer.\n",
    "        output_outputs = self.activate_layer(hidden_outputs, self.output_weights, self.threshold_output)  #We activate output layer.\n",
    "        return output_outputs\n",
    "\n",
    "    def activate_layer(self, inputs, weights, threshold):\n",
    "        activations = []\n",
    "        for neuron_weights in weights:\n",
    "            neuron = Neuron(neuron_weights, threshold)  #We create a neuron with given weights and threshold.\n",
    "            neuron.integrate_fire(inputs)  #Then, we integrate inputs and update neuron's activation state,\n",
    "            activations.append(neuron.activation)  #and add neuron's activation to the list of activations.\n",
    "        return np.array(activations)"
   ]
  },
  {
   "cell_type": "code",
   "execution_count": 6,
   "id": "84ecb0cc",
   "metadata": {},
   "outputs": [
    {
     "name": "stdout",
     "output_type": "stream",
     "text": [
      "[1 1]\n"
     ]
    }
   ],
   "source": [
    "input_neurons = 2\n",
    "hidden_neurons = 4\n",
    "output_neurons = 2\n",
    "\n",
    "inputs = np.array([[0.0, 0.0], [0.0, 1.0], [1.0, 1.0], [0.0, 0.0]])\n",
    "\n",
    "network = NeuralNetwork(input_neurons, hidden_neurons, output_neurons, threshold_hidden=0.5, threshold_output=0.5)\n",
    "\n",
    "outputs = network.forward(inputs)\n",
    "print(outputs)"
   ]
  }
 ],
 "metadata": {
  "kernelspec": {
   "display_name": "Python 3 (ipykernel)",
   "language": "python",
   "name": "python3"
  },
  "language_info": {
   "codemirror_mode": {
    "name": "ipython",
    "version": 3
   },
   "file_extension": ".py",
   "mimetype": "text/x-python",
   "name": "python",
   "nbconvert_exporter": "python",
   "pygments_lexer": "ipython3",
   "version": "3.10.7"
  }
 },
 "nbformat": 4,
 "nbformat_minor": 5
}
