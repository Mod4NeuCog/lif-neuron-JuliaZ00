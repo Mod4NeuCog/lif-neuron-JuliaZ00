{
 "cells": [
  {
   "cell_type": "markdown",
   "id": "1e4b807e",
   "metadata": {},
   "source": [
    "Task: We are interested only in the electrical potentials of neurons (not in the molecular concentrations). A simple IF just sums (integrate) the spikes received increasing the membrane potential and fires if the potential value is greater than a threshold.\n",
    "\n",
    "Apply the specification hierarchy and propose a state transition diagram.\n",
    "Detail the variable mathematical definitions\n",
    "Parameters: (∆,θ), ∆ is the firing delay once the threshold iscrossed, and θ = 2 is the threshold.\n",
    "\n"
   ]
  },
  {
   "cell_type": "markdown",
   "id": "06755737",
   "metadata": {},
   "source": [
    "The state transition Diagram:"
   ]
  },
  {
   "cell_type": "markdown",
   "id": "6ac4defe",
   "metadata": {},
   "source": [
    "R $\\xrightarrow[\\text{}]{\\text{θ}}$ F"
   ]
  },
  {
   "cell_type": "markdown",
   "id": "09cfcae7",
   "metadata": {},
   "source": [
    "R: resting state, neuron is at rest with a membrane potential of 0.\n",
    "\n",
    "F: firing state, neuron fires an output spike once the membrane potential exceeds the threshold θ.\n",
    "\n",
    "\n",
    "- ∆: firing delay, the time delay from crossing the threshold to firing an output spike.\n",
    "Firing delay is a constant value representing the time delay from crossing the threshold to firing an output spike.\n",
    "\n",
    "- θ: threshold, the membrane potential threshold that triggers the neuron to fire.\n",
    "Threshold is a constant value set to 2, representing the membrane potential threshold that triggers the neuron to fire."
   ]
  },
  {
   "cell_type": "code",
   "execution_count": 3,
   "id": "a8e41d26",
   "metadata": {},
   "outputs": [],
   "source": [
    "import numpy as np\n",
    "\n",
    "#The Neuron class represents an individual neuron \n",
    "#with its respective weights, threshold, firing delay, membrane potential, activation state, and time since last firing.\n",
    "class Neuron:\n",
    "    def __init__(self, weights, threshold, firing_delay):\n",
    "        self.weights = weights\n",
    "        self.threshold = threshold\n",
    "        self.firing_delay = firing_delay\n",
    "        self.membrane_potential = 0.0  #We initialize the membrane potential to 0.\n",
    "        self.activation = np.zeros_like(threshold)  #We initialize the activation state to 0.\n",
    "        self.time_since_firing = np.zeros_like(firing_delay)  #We initialize the time since firing to 0.\n",
    "\n",
    "    def integrate_fire(self, inputs):\n",
    "        #We define function integrate_fire, which integrate inputs by adding the dot product of inputs and weights to the membrane potential.\n",
    "        self.membrane_potential += np.dot(inputs, self.weights)\n",
    "        #Here we check if neuron is not already activated.\n",
    "        threshold_exceeded = np.logical_and(self.activation == 0, self.membrane_potential >= self.threshold)\n",
    "        #Then, we update the activation state and reset the membrane potential if the threshold is exceeded.\n",
    "        self.activation = np.where(threshold_exceeded, 1, 0)\n",
    "        self.membrane_potential = np.where(threshold_exceeded, 0.0, self.membrane_potential)\n",
    "        #We update the time since firing for activated neurons, and reset for others.\n",
    "        self.time_since_firing = np.where(self.activation == 0, self.time_since_firing + 1, 0)\n",
    "\n",
    "    def is_ready_to_fire(self):\n",
    "        #We look if the neuron is activated and has surpassed the firing delay.\n",
    "        return np.logical_and(self.activation == 1, self.time_since_firing >= self.firing_delay)"
   ]
  },
  {
   "cell_type": "code",
   "execution_count": 4,
   "id": "25fd9c0d",
   "metadata": {},
   "outputs": [],
   "source": [
    "#The NeuralNetwork class represents the neural network \n",
    "#with its layers, weights, thresholds, and firing delay.\n",
    "\n",
    "class NeuralNetwork:\n",
    "    def __init__(self, input_neurons, hidden_neurons, output_neurons, threshold_hidden, threshold_output, firing_delay):\n",
    "        self.input_neurons = input_neurons\n",
    "        self.hidden_neurons = hidden_neurons\n",
    "        self.output_neurons = output_neurons\n",
    "        self.threshold_hidden = threshold_hidden\n",
    "        self.threshold_output = threshold_output\n",
    "        self.firing_delay = firing_delay\n",
    "        self.hidden_weights = np.random.random((hidden_neurons, input_neurons))  # Generate random weights for the hidden layer\n",
    "        self.output_weights = np.random.random((output_neurons, hidden_neurons))  # Generate random weights for the output layer\n",
    "        self.hidden_layer = [Neuron(weights, threshold_hidden, firing_delay) for weights in self.hidden_weights]  # Create neurons for the hidden layer\n",
    "        self.output_layer = [Neuron(weights, threshold_output, firing_delay) for weights in self.output_weights]  # Create neurons for the output layer\n",
    "\n",
    "    def forward(self, inputs):\n",
    "        hidden_outputs = self.activate_layer(inputs, self.hidden_layer)  # Activate the hidden layer\n",
    "        output_outputs = self.activate_layer(hidden_outputs, self.output_layer)  # Activate the output layer\n",
    "        return output_outputs\n",
    "\n",
    "    def activate_layer(self, inputs, layer):\n",
    "        activations = []\n",
    "        for neuron in layer:\n",
    "            neuron.integrate_fire(inputs)  # Integrate and fire the neuron\n",
    "            if neuron.is_ready_to_fire().any():  # Check if the neuron is ready to fire\n",
    "                activations.append(1)  # Add 1 to the activations if ready to fire\n",
    "            else:\n",
    "                activations.append(0)  # Add 0 to the activations if not ready to fire\n",
    "        return np.array(activations)  # Convert the activations to a numpy array"
   ]
  },
  {
   "cell_type": "code",
   "execution_count": 5,
   "id": "f960a624",
   "metadata": {},
   "outputs": [
    {
     "name": "stdout",
     "output_type": "stream",
     "text": [
      "[0 0]\n"
     ]
    }
   ],
   "source": [
    "#We define the number of neurons per layer.\n",
    "input_neurons = 2\n",
    "hidden_neurons = 4\n",
    "output_neurons = 2\n",
    "\n",
    "#We define the firing delay and threshold for the neurons.\n",
    "firing_delay = 2\n",
    "threshold_hidden = 0.5\n",
    "threshold_output = 0.5\n",
    "\n",
    "#We define the input data.\n",
    "inputs = np.array([[0.0, 0.0], [0.0, 1.0], [1.0, 1.0], [0.0, 0.0]])\n",
    "\n",
    "#We create the neural network with the specified architecture and parameters,\n",
    "network = NeuralNetwork(input_neurons, hidden_neurons, output_neurons, threshold_hidden, threshold_output, firing_delay)\n",
    "\n",
    "#and test the network.\n",
    "outputs = network.forward(inputs)\n",
    "print(outputs)"
   ]
  }
 ],
 "metadata": {
  "kernelspec": {
   "display_name": "Python 3 (ipykernel)",
   "language": "python",
   "name": "python3"
  },
  "language_info": {
   "codemirror_mode": {
    "name": "ipython",
    "version": 3
   },
   "file_extension": ".py",
   "mimetype": "text/x-python",
   "name": "python",
   "nbconvert_exporter": "python",
   "pygments_lexer": "ipython3",
   "version": "3.10.7"
  }
 },
 "nbformat": 4,
 "nbformat_minor": 5
}
