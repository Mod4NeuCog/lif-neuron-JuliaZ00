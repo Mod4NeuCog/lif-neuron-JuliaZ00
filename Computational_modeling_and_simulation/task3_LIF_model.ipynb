{
 "cells": [
  {
   "cell_type": "markdown",
   "id": "4d4d6c25",
   "metadata": {},
   "source": [
    "Leaky Integrate and Fire (LIF) model\n",
    "\n",
    "It considering the leakage of the membrane potential. \n",
    "\n",
    "The leak factor in the LIF neuron model determines the speed at which the neuron's membrane potential changes over time."
   ]
  },
  {
   "cell_type": "code",
   "execution_count": 1,
   "id": "cbb89c2d",
   "metadata": {},
   "outputs": [],
   "source": [
    "import numpy as np"
   ]
  },
  {
   "cell_type": "code",
   "execution_count": 2,
   "id": "30a0f2aa",
   "metadata": {},
   "outputs": [],
   "source": [
    "class Neuron:\n",
    "    def __init__(self, weights, threshold, leak):\n",
    "        #We initialize neuron weights, threshold, and leak factor.\n",
    "        self.weights = weights  #The strength of connections to other neurons.\n",
    "        self.threshold = threshold  #The minimum membrane potential required to \"fire\" and send an output spike.\n",
    "        self.leak = leak  #The rate at which the membrane potential decays over time.\n",
    "        self.membrane_potential = 0.0  #The current level of electrical charge in the neuron.\n",
    "\n",
    "    def forward(self, inputs):\n",
    "        #We calculate the weighted sum of inputs.\n",
    "        total = sum(w * x for w, x in zip(self.weights, inputs))\n",
    "\n",
    "        #We accumulate the inputs over time by adding to the membrane potential.\n",
    "        self.membrane_potential += total\n",
    "\n",
    "        #We check if the threshold is reached,\n",
    "        if self.membrane_potential >= self.threshold:\n",
    "            #fire an output spike\n",
    "            output = 1\n",
    "            #and reset the membrane potential\n",
    "            self.membrane_potential = 0.0\n",
    "        else:\n",
    "            #Here we compute the leak of the membrane potential over time.\n",
    "            self.membrane_potential *= self.leak\n",
    "            output = 0\n",
    "        return output"
   ]
  },
  {
   "cell_type": "code",
   "execution_count": 3,
   "id": "9c0b9124",
   "metadata": {},
   "outputs": [],
   "source": [
    "class Layer:\n",
    "    def __init__(self, weights, threshold, leak):\n",
    "        #We initialize the layer with neurons.\n",
    "        self.neurons = []\n",
    "        for w in weights:\n",
    "            #It create a neuron with given weights, threshold, and leak factor.\n",
    "            self.neurons.append(Neuron(w, threshold, leak))\n",
    "\n",
    "    def forward(self, inputs):\n",
    "        #We define forward pass through the layer.\n",
    "        outputs = []\n",
    "        for neuron in self.neurons:\n",
    "            #It compute the output of each neuron in the layer.\n",
    "            output = neuron.forward(inputs)\n",
    "            outputs.append(output)\n",
    "        return outputs"
   ]
  },
  {
   "cell_type": "code",
   "execution_count": 4,
   "id": "02c5b537",
   "metadata": {},
   "outputs": [],
   "source": [
    "class NeuralNetwork:\n",
    "    def __init__(self, weights_hidden, weights_output, threshold_hidden, threshold_output, leak_hidden, leak_output):\n",
    "        #We initialize the neural network with hidden layer and output layer.\n",
    "        self.hidden_layer = Layer(weights_hidden, threshold_hidden, leak_hidden)\n",
    "        self.output_layer = Layer(weights_output, threshold_output, leak_output)\n",
    "\n",
    "    def forward(self, inputs):\n",
    "        #This function perform the forward pass through the network.\n",
    "        hidden_outputs = self.hidden_layer.forward(inputs)\n",
    "        output_outputs = self.output_layer.forward(hidden_outputs)\n",
    "        return output_outputs"
   ]
  },
  {
   "cell_type": "code",
   "execution_count": 5,
   "id": "1255566e",
   "metadata": {},
   "outputs": [
    {
     "name": "stdout",
     "output_type": "stream",
     "text": [
      "[0, 0]\n"
     ]
    }
   ],
   "source": [
    "input_neurons = 2\n",
    "hidden_neurons = 4\n",
    "output_neurons = 2\n",
    "\n",
    "hidden_weights = [\n",
    "    [0.1, 0.2],  # Weights for neuron 1\n",
    "    [0.1, 0.2],  # Weights for neuron 2\n",
    "    [0.3, 0.2],  # Weights for neuron 3\n",
    "    [0.4, 0.5]   # Weights for neuron 4\n",
    "]\n",
    "\n",
    "\n",
    "output_weights = [\n",
    "    [0.3, 0.5, 0.2, 0.5],  # Weights for neuron 1\n",
    "    [0.1, 0.4, 0.6, 0.3]   # Weights for neuron 2\n",
    "]\n",
    "\n",
    "#We define thresholds for the hidden and output layers.\n",
    "threshold_hidden = 0.5\n",
    "threshold_output = 0.7\n",
    "\n",
    "#Wefine leak factors for the hidden and output layers.\n",
    "leak_hidden = 0.8\n",
    "leak_output = 0.9\n",
    "\n",
    "#We create the neural network with the provided parameters.\n",
    "network = NeuralNetwork(hidden_weights, output_weights, threshold_hidden, threshold_output, leak_hidden, leak_output)\n",
    "\n",
    "inputs = [0.7,0.4]\n",
    "\n",
    "#Finally, perform forward path through the network and print outputs\n",
    "outputs = network.forward(inputs)\n",
    "print(outputs)"
   ]
  },
  {
   "cell_type": "code",
   "execution_count": null,
   "id": "3b1e2e64",
   "metadata": {},
   "outputs": [],
   "source": []
  }
 ],
 "metadata": {
  "kernelspec": {
   "display_name": "Python 3 (ipykernel)",
   "language": "python",
   "name": "python3"
  },
  "language_info": {
   "codemirror_mode": {
    "name": "ipython",
    "version": 3
   },
   "file_extension": ".py",
   "mimetype": "text/x-python",
   "name": "python",
   "nbconvert_exporter": "python",
   "pygments_lexer": "ipython3",
   "version": "3.10.7"
  }
 },
 "nbformat": 4,
 "nbformat_minor": 5
}
