{
 "cells": [
  {
   "cell_type": "markdown",
   "id": "01d1eccd",
   "metadata": {},
   "source": [
    "Task 4:\n",
    "\n",
    "You want to observe the total activity in time. \n",
    "\n",
    "\n",
    "What is this activity? Plot the different values in time. \n",
    "    \n",
    "    – What is an « active » neuron?\n",
    "    – What is an « active » network?\n",
    "    – What is the activity of a neuron? of a network?\n",
    "\n",
    "\n",
    "You want to observe the total duration of the network in time. \n",
    "\n",
    "\n",
    "What is this duration? Print its value. \n",
    "    \n",
    "    – Duration of spiking activity of the network?\n",
    "    – How do you consider the delay to reach network output?"
   ]
  },
  {
   "cell_type": "markdown",
   "id": "f878a9e8",
   "metadata": {},
   "source": [
    "Definitions and terms: \n",
    "\n",
    "\n",
    "To observe the total activity in time, we can track the activation of neurons and the network over a certain duration. \n",
    "\n",
    "An active neuron refers to a neuron that has fired an output spike during a specific time interval. In the code provided, a neuron is considered active if its membrane potential exceeds the threshold, resulting in an activation value of 1.\n",
    "\n",
    "An active network refers to a network where at least one neuron in the output layer has fired an output spike during a specific time interval. In other words, if any output neuron has an activation value of 1, the network is considered active.\n",
    "\n",
    "The activity of a neuron refers to the firing behavior of the neuron over time. It represents the number of times a neuron fires or becomes active within a given duration.\n",
    "\n",
    "The activity of a network refers to the overall firing behavior of the network over time. It represents the presence or absence of output spikes from the network during a given duration.\n",
    "\n"
   ]
  },
  {
   "cell_type": "code",
   "execution_count": 2,
   "id": "87c93507",
   "metadata": {},
   "outputs": [],
   "source": [
    "import numpy as np\n",
    "import matplotlib.pyplot as plt"
   ]
  },
  {
   "cell_type": "code",
   "execution_count": 3,
   "id": "4dccd3f4",
   "metadata": {},
   "outputs": [],
   "source": [
    "class Neuron:\n",
    "    def __init__(self, weights, threshold):\n",
    "        self.weights = weights  #The weights of the neuron's connections\n",
    "        self.threshold = threshold  #The threshold for firing\n",
    "        self.membrane_potential = 0.0  #The accumulated input signal\n",
    "        self.activation = 0  #The output activation state\n",
    "\n",
    "    def integrate_fire(self, inputs):\n",
    "        #We integrate the inputs by summing weighted values.\n",
    "        self.membrane_potential += np.dot(inputs, self.weights)\n",
    "\n",
    "        #We check if any element in the membrane potential array exceeds the threshold.\n",
    "        if np.any(self.membrane_potential > self.threshold):\n",
    "            #We fire an output spike,\n",
    "            self.activation = 1\n",
    "            #and reset the membrane potential.\n",
    "            self.membrane_potential = 0.0\n",
    "        else:\n",
    "            self.activation = 0\n",
    "            \n",
    "        #It tracks the activity of the neuron.\n",
    "        activity = int(self.activation)  #1 if active, 0 otherwise\n",
    "        return activity"
   ]
  },
  {
   "cell_type": "code",
   "execution_count": 4,
   "id": "4a3901ff",
   "metadata": {},
   "outputs": [],
   "source": [
    "class NeuralNetwork:\n",
    "    def __init__(self, input_neurons, hidden_neurons, output_neurons, threshold_hidden, threshold_output):\n",
    "        self.input_neurons = input_neurons  \n",
    "        self.hidden_neurons = hidden_neurons  \n",
    "        self.output_neurons = output_neurons \n",
    "        self.threshold_hidden = threshold_hidden  \n",
    "        self.threshold_output = threshold_output \n",
    "        self.hidden_weights = np.random.random((hidden_neurons, input_neurons)) \n",
    "        self.output_weights = np.random.random((output_neurons, hidden_neurons)) \n",
    "\n",
    "    def forward(self, inputs): #We define function forward.\n",
    "        hidden_outputs = self.activate_layer(inputs, self.hidden_weights, self.threshold_hidden)  #We activate hidden layer.\n",
    "        output_outputs = self.activate_layer(hidden_outputs, self.output_weights, self.threshold_output)  #We activate output layer.\n",
    "        \n",
    "        #It tracks the activity of the network.\n",
    "        network_activity = np.any(output_outputs)  #1 if active, 0 otherwise\n",
    "        \n",
    "        return output_outputs, network_activity\n",
    "\n",
    "    def activate_layer(self, inputs, weights, threshold):\n",
    "        activations = []\n",
    "        for neuron_weights in weights:\n",
    "            neuron = Neuron(neuron_weights, threshold)  # Create a neuron with given weights and threshold\n",
    "            neuron_output = neuron.integrate_fire(inputs)  # Integrate inputs and update neuron's activation state\n",
    "            activations.append(neuron_output)  # Add neuron's activation to the list of activations\n",
    "        return np.array(activations)"
   ]
  },
  {
   "cell_type": "code",
   "execution_count": 5,
   "id": "72d4aa27",
   "metadata": {},
   "outputs": [
    {
     "name": "stdout",
     "output_type": "stream",
     "text": [
      "Network Outputs: [1 1]\n",
      "Network Activity: True\n"
     ]
    },
    {
     "data": {
      "image/png": "[encoded data removed]",
      "text/plain": [
       "<Figure size 1000x600 with 1 Axes>"
      ]
     },
     "metadata": {},
     "output_type": "display_data"
    }
   ],
   "source": [
    "#We define the number of neurons per layer.\n",
    "input_neurons = 2\n",
    "hidden_neurons = 4\n",
    "output_neurons = 2\n",
    "\n",
    "#We define the training dataset.\n",
    "inputs = np.array([[0.0, 0.0], [0.0, 1.0], [1.0, 1.0], [0.0, 0.0]])\n",
    "\n",
    "#Here we create the neural network,\n",
    "network = NeuralNetwork(input_neurons, hidden_neurons, output_neurons, threshold_hidden=0.5, threshold_output=0.5)\n",
    "\n",
    "#and test it.\n",
    "outputs, network_activity = network.forward(inputs)\n",
    "print(\"Network Outputs:\", outputs)\n",
    "print(\"Network Activity:\", network_activity)\n",
    "\n",
    "#Here we plot the activity of the network over time\n",
    "time = np.arange(len(outputs)) #We create an array representing the time steps\n",
    "neuron_activities = np.array([network.output_neurons] * len(outputs)).T\n",
    "network_activities = np.array([network_activity] * len(outputs))\n",
    "\n",
    "plt.figure(figsize=(10, 6))  #We create a new figure for the plot\n",
    "plt.plot(time, neuron_activities, label='Neuron Activity')  #We plot the neuron activity over time\n",
    "plt.plot(time, network_activities, label='Network Activity')  #We plot the network activity over time\n",
    "plt.xlabel('Time')  #We set the x-axis label,\n",
    "plt.ylabel('Activity')  #and the y-axis label.\n",
    "plt.title('Activity of Neurons and Network over Time')  #We name the plot,\n",
    "plt.legend()  #display the legend,\n",
    "plt.show()  #and show the plot."
   ]
  },
  {
   "cell_type": "code",
   "execution_count": 7,
   "id": "08c22f35",
   "metadata": {},
   "outputs": [
    {
     "name": "stdout",
     "output_type": "stream",
     "text": [
      "Duration of Spiking Activity: 2\n"
     ]
    }
   ],
   "source": [
    "print(\"Duration of Spiking Activity:\", len(outputs)) #We print the value of the duration of spiking activity of the network\n",
    "\n",
    "#It can be determined by the length of the outputs array, \n",
    "#which represents the network's output over time."
   ]
  }
 ],
 "metadata": {
  "kernelspec": {
   "display_name": "Python 3 (ipykernel)",
   "language": "python",
   "name": "python3"
  },
  "language_info": {
   "codemirror_mode": {
    "name": "ipython",
    "version": 3
   },
   "file_extension": ".py",
   "mimetype": "text/x-python",
   "name": "python",
   "nbconvert_exporter": "python",
   "pygments_lexer": "ipython3",
   "version": "3.10.7"
  }
 },
 "nbformat": 4,
 "nbformat_minor": 5
}
