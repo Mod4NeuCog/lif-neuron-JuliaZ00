{
 "cells": [
  {
   "cell_type": "markdown",
   "id": "ed644186",
   "metadata": {},
   "source": [
    "Task: Map neurons to actions\n",
    "Represent as time aware systems with no IO:\n",
    "- The simplified neural net: assume global state=(layer_nb, e), with e=1 for each layer\n",
    "- The actions with durations\n",
    "- Show the mapping h from neural net system to action system\n",
    "- When is the mapping valid wrt the EF?"
   ]
  },
  {
   "cell_type": "markdown",
   "id": "566d4cac",
   "metadata": {},
   "source": [
    "1. To map neurons to actions and represent them as time-aware systems with no IO, we can extend the previous object-oriented code of the IF neuron to include actions with durations. \n",
    "\n",
    "2. By introducing a global state variable (layer_nb, e) to represent the current state of the neural network system, where layer_nb indicates the current layer and e represents the current time step within that layer.\n",
    "\n",
    "3. We also define a mapping function h that maps the neural network system to the action system. This mapping function will associate each neuron in the neural network with a corresponding action and duration.\n",
    "\n",
    "4. To determine when the mapping is valid with respect to the Experimental Frame (EF), we need to consider the duration of each action and ensure that it aligns with the time steps defined in the EF. The mapping is valid when the durations of the actions match the durations specified in the EF."
   ]
  },
  {
   "cell_type": "code",
   "execution_count": 7,
   "id": "ccb4df83",
   "metadata": {},
   "outputs": [],
   "source": [
    "import numpy as np\n",
    "import matplotlib.pyplot as plt"
   ]
  },
  {
   "cell_type": "code",
   "execution_count": 14,
   "id": "22146906",
   "metadata": {},
   "outputs": [],
   "source": [
    "#This code implements a neural network with one hidden layer and one output layer, \n",
    "#each neuron has weights, a threshold, and a leak value. \n",
    "\n",
    "#We again create a Neuron class\n",
    "class Neuron:\n",
    "    def __init__(self, weights, threshold, leak): \n",
    "#We initialize the weights, threshold, leak, and  membrane_potential of neuron.\n",
    "        self.weights = weights\n",
    "        self.threshold = threshold\n",
    "        self.leak = leak\n",
    "        self.membrane_potential = 0.0\n",
    "\n",
    "    def integrate_fire(self, inputs):\n",
    "        #We calculate the weighted sum of inputs.\n",
    "        total = np.dot(inputs, self.weights)\n",
    "        #We integrate the inputs by adding them to the membrane potential.\n",
    "        self.membrane_potential += total\n",
    "        if self.membrane_potential >= self.threshold:\n",
    "            #We fire an output spike\n",
    "            output = 1\n",
    "            #and reset the membrane potential.\n",
    "            self.membrane_potential = 0.0\n",
    "        else:\n",
    "            self.membrane_potential *= self.leak\n",
    "            output = 0\n",
    "        return output"
   ]
  },
  {
   "cell_type": "code",
   "execution_count": 15,
   "id": "6775d37f",
   "metadata": {},
   "outputs": [],
   "source": [
    "#We create a Layer class\n",
    "class Layer:\n",
    "    def __init__(self, weights, threshold, leak):\n",
    "        #We initialize the layer with neurons\n",
    "        self.neurons = []\n",
    "        for w in weights:\n",
    "            #We create a neuron with given weights, threshold and leak.\n",
    "            self.neurons.append(Neuron(w, threshold, leak))\n",
    "\n",
    "    def forward(self, inputs):\n",
    "        #We use function forward to do a forward path through the layer \n",
    "        #and calculate the weighted sum of incoming connections.\n",
    "        outputs = []\n",
    "        for neuron in self.neurons:\n",
    "            output = neuron.integrate_fire(inputs)\n",
    "            outputs.append(output)\n",
    "        return outputs"
   ]
  },
  {
   "cell_type": "code",
   "execution_count": 16,
   "id": "784b0516",
   "metadata": {},
   "outputs": [],
   "source": [
    "class NeuralNetwork:\n",
    "    def __init__(self, weights_hidden, weights_output, threshold_hidden, threshold_output, leak_hidden, leak_output):\n",
    "        #We initialize the neural network with hidden layer and output layer.\n",
    "        self.hidden_layer = Layer(weights_hidden, threshold_hidden, leak_hidden)\n",
    "        self.output_layer = Layer(weights_output, threshold_output, leak_output)\n",
    "\n",
    "    def forward(self, inputs):\n",
    "        #We perform the forward path through the ANN.\n",
    "        hidden_outputs = self.hidden_layer.forward(inputs)\n",
    "        output_outputs = self.output_layer.forward(hidden_outputs)\n",
    "        return output_outputs"
   ]
  },
  {
   "cell_type": "code",
   "execution_count": 17,
   "id": "fe792f3d",
   "metadata": {},
   "outputs": [],
   "source": [
    "#The ExperimentalFrame class simulates the behavior of the neural network over a range of theta values,\n",
    "#It updates the threshold and leak values of the neurons based on theta, \n",
    "#and computes the network's output for each value of theta. \n",
    "#The simulate method returns lists of activity and duration values for each theta value.\n",
    "\n",
    "class ExperimentalFrame:\n",
    "    def __init__(self, weights_hidden, weights_output, threshold_hidden, threshold_output, leak_hidden, leak_output):\n",
    "        self.network = NeuralNetwork(weights_hidden, weights_output, threshold_hidden, threshold_output, leak_hidden, leak_output)\n",
    "\n",
    "    def update_parameters(self, theta):\n",
    "        #We update threshold and leak of neurons in the network based on the theta value.\n",
    "        for neuron in self.network.hidden_layer.neurons + self.network.output_layer.neurons:\n",
    "            neuron.threshold *= theta\n",
    "            neuron.leak *= theta\n",
    "\n",
    "    def simulate(self, theta_values): #Simulate the activity and duration based on different theta values.\n",
    "        activity_list = [] #The list to store the activity for each theta value,\n",
    "        duration_list = [] #and the duration for each theta value.\n",
    "        for theta in theta_values:\n",
    "            self.update_parameters(theta) #We update the parameters based on the current theta.\n",
    "            inputs = [1.0, 0.0] #We define inputs/voltage\n",
    "            outputs = self.network.forward(inputs) #We perform forward propagation.\n",
    "            activity = sum(outputs) #total activity\n",
    "            duration = len(outputs) #total duration\n",
    "            activity_list.append(activity) \n",
    "            duration_list.append(duration) #and add it to these lists. \n",
    "        return activity_list, duration_list #We return activity and duration. \n",
    "    "
   ]
  },
  {
   "cell_type": "code",
   "execution_count": 18,
   "id": "a141306f",
   "metadata": {},
   "outputs": [],
   "source": [
    "class Action:\n",
    "    def __init__(self, duration):\n",
    "        self.duration = duration\n",
    "\n",
    "#The h function maps the neural network system state to the action system, \n",
    "#it takes the current neural_net_state as input and returns a list of actions based on the layer number.\n",
    "def h(neural_net_state):\n",
    "    #We map neural network system state to action system.\n",
    "    actions = []\n",
    "    layer_nb, e = neural_net_state\n",
    "    if layer_nb == 1:\n",
    "        #Actions for inputs\n",
    "        actions.append(Action(duration=1))\n",
    "    elif layer_nb == 2:\n",
    "        #Actions for hidden layer\n",
    "        actions.append(Action(duration=2))\n",
    "    elif layer_nb == 3:\n",
    "        #Actions for outputs \n",
    "        actions.append(Action(duration=3))\n",
    "    return actions"
   ]
  },
  {
   "cell_type": "code",
   "execution_count": 19,
   "id": "cbbd433f",
   "metadata": {},
   "outputs": [
    {
     "name": "stdout",
     "output_type": "stream",
     "text": [
      "1\n"
     ]
    }
   ],
   "source": [
    "#We define the number of neurons per layer\n",
    "input_neurons = 2\n",
    "hidden_neurons = 4\n",
    "output_neurons = 2\n",
    "\n",
    "#We define weights for the hidden layer,\n",
    "hidden_weights = [\n",
    "    [0.1, 0.2],\n",
    "    [0.3, 0.4],\n",
    "    [0.5, 0.6],\n",
    "    [0.7, 0.8],\n",
    "]\n",
    "\n",
    "#same for the output layer.\n",
    "output_weights = [\n",
    "    [0.9, 1.0, 1.1, 1.2],\n",
    "    [1.3, 1.4, 1.5, 1.6],\n",
    "]\n",
    "\n",
    "#We define parameters:\n",
    "threshold_hidden = 0.5\n",
    "threshold_output = 1.0\n",
    "leak_hidden = 0.8\n",
    "leak_output = 0.9\n",
    "\n",
    "#We create the experimental frame:\n",
    "exp_frame = ExperimentalFrame(hidden_weights, output_weights, threshold_hidden, threshold_output, leak_hidden, leak_output)\n",
    "\n",
    "#and define the range of theta values.\n",
    "theta_values = np.linspace(0, 1, 10)\n",
    "\n",
    "#We simulate the model for each value of theta,\n",
    "activity_list, duration_list = exp_frame.simulate(theta_values)\n",
    "\n",
    "#set the initial global state,\n",
    "global_state = (1, 1)\n",
    "\n",
    "#get the actions for the current neural network state.\n",
    "actions = h(global_state)\n",
    "\n",
    "#and print the durations of the actions.\n",
    "for action in actions:\n",
    "    print(action.duration)"
   ]
  },
  {
   "attachments": {
    "image.png": {
     "image/png": "[encoded data removed]"
    }
   },
   "cell_type": "markdown",
   "id": "19cdf0b8",
   "metadata": {},
   "source": [
    "UML diagram of code above\n",
    "![image.png](attachment:image.png)"
   ]
  },
  {
   "cell_type": "markdown",
   "id": "f9d1d528",
   "metadata": {},
   "source": [
    "The Neuron class represents a single neuron in the neural network. \n",
    "It has attributes such as weights, threshold, leak, and membrane_potential, and function integrate_fire, which calculates the total input, updates the membrane potential, and returns the activation state of the neuron.\n",
    "\n",
    "\n",
    "The Layer class represents a layer of neurons. \n",
    "It contains an array of neurons and has a forward method that activates the neurons in the layer based on the given inputs and returns the activation states of all neurons in the layer.\n",
    "\n",
    "\n",
    "The NeuralNetwork class represents the neural network itself. \n",
    "It consists of a hidden_layer and an output_layer, both instances of the Layer class. The forward method performs the forward pass through the network by activating the hidden layer and then the output layer.\n",
    "\n",
    "\n",
    "The ExperimentalFrame class represents the experimental frame. \n",
    "It contains a network instance of the NeuralNetwork class. The update_parameters method updates the parameters of the network based on a given theta value. The simulate method performs the simulation of the model for a range of theta values and returns the activity and duration lists."
   ]
  },
  {
   "cell_type": "code",
   "execution_count": null,
   "id": "950136dd",
   "metadata": {},
   "outputs": [],
   "source": []
  }
 ],
 "metadata": {
  "kernelspec": {
   "display_name": "Python 3 (ipykernel)",
   "language": "python",
   "name": "python3"
  },
  "language_info": {
   "codemirror_mode": {
    "name": "ipython",
    "version": 3
   },
   "file_extension": ".py",
   "mimetype": "text/x-python",
   "name": "python",
   "nbconvert_exporter": "python",
   "pygments_lexer": "ipython3",
   "version": "3.10.7"
  }
 },
 "nbformat": 4,
 "nbformat_minor": 5
}
