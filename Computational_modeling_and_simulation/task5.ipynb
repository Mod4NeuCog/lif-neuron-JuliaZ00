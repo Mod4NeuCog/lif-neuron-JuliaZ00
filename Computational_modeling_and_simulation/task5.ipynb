{
 "cells": [
  {
   "cell_type": "markdown",
   "id": "faa0ee58",
   "metadata": {},
   "source": [
    "What are the parameters theta influencing activity? duration?\n",
    "\n",
    "The parameters theta that can influence duration and vary depending on the specific activity.\n",
    " \n",
    "1. Propose an algorithm to simulate the model in an EF for each value of parameters. \n",
    "2. Plot the activity and durations vs. parameter values."
   ]
  },
  {
   "cell_type": "code",
   "execution_count": 2,
   "id": "525fe9f9",
   "metadata": {},
   "outputs": [],
   "source": [
    "import numpy as np\n",
    "import matplotlib.pyplot as plt"
   ]
  },
  {
   "cell_type": "code",
   "execution_count": 3,
   "id": "795b9561",
   "metadata": {},
   "outputs": [],
   "source": [
    "class Neuron:\n",
    "    def __init__(self, weights, threshold, leak):\n",
    "        #We initialize neuron weights, threshold, and leak factor.\n",
    "        self.weights = weights  #The strength of connections to other neurons\n",
    "        self.threshold = threshold  #The minimum membrane potential required to \"fire\" and send an output spike\n",
    "        self.leak = leak  #The rate at which the membrane potential decays over time\n",
    "        self.membrane_potential = 0.0  #The current level of membrane potential\n",
    "\n",
    "    def forward(self, inputs):\n",
    "        #We definefunction forward and calculate the weighted sum of inputs.\n",
    "        total = sum(w * x for w, x in zip(self.weights, inputs))\n",
    "\n",
    "        #We accumulate the inputs over time by adding to the membrane potential.\n",
    "        self.membrane_potential += total\n",
    "\n",
    "        #Here we check if the threshold is reached,\n",
    "        if self.membrane_potential >= self.threshold:\n",
    "            #fire an output spike,\n",
    "            output = 1\n",
    "            #and reset the membrane potential.\n",
    "            self.membrane_potential = 0.0\n",
    "        else:\n",
    "            #Here we compute the leak of the membrane potential over time.\n",
    "            self.membrane_potential *= self.leak\n",
    "            output = 0\n",
    "        return output"
   ]
  },
  {
   "cell_type": "code",
   "execution_count": 4,
   "id": "f2a349d4",
   "metadata": {},
   "outputs": [],
   "source": [
    "class Layer:\n",
    "    def __init__(self, weights, threshold, leak):\n",
    "        #We initialize the layer with neurons.\n",
    "        self.neurons = []\n",
    "        for w in weights:\n",
    "            #We create a neuron with given weights, threshold, and leak factor.\n",
    "            self.neurons.append(Neuron(w, threshold, leak))\n",
    "\n",
    "    def forward(self, inputs):\n",
    "        #We define function forward, which execute the forward pass through the layer.\n",
    "        outputs = []\n",
    "        for neuron in self.neurons:\n",
    "            #We compute the output of each neuron in the layer.\n",
    "            output = neuron.forward(inputs)\n",
    "            outputs.append(output)\n",
    "        return outputs"
   ]
  },
  {
   "cell_type": "code",
   "execution_count": 5,
   "id": "5135cb2a",
   "metadata": {},
   "outputs": [],
   "source": [
    "class NeuralNetwork:\n",
    "    def __init__(self, weights_hidden, weights_output, threshold_hidden, threshold_output, leak_hidden, leak_output):\n",
    "        #We initialize the neural network with hidden layer and output layer.\n",
    "        self.hidden_layer = Layer(weights_hidden, threshold_hidden, leak_hidden)\n",
    "        self.output_layer = Layer(weights_output, threshold_output, leak_output)\n",
    "\n",
    "    def forward(self, inputs):\n",
    "        hidden_outputs = self.hidden_layer.forward(inputs)\n",
    "        output_outputs = self.output_layer.forward(hidden_outputs)\n",
    "        return output_outputs\n",
    "\n",
    "    def simulate(self, theta_values):\n",
    "        #We simulate the model for each theta value\n",
    "        activity_list = []\n",
    "        duration_list = []\n",
    "        for theta in theta_values:\n",
    "            #We update the parameters theta for each neuron in the network.\n",
    "            for neuron in self.hidden_layer.neurons + self.output_layer.neurons:\n",
    "                neuron.threshold = neuron.threshold * theta\n",
    "                neuron.leak = neuron.leak * theta\n",
    "\n",
    "            #We perform forward path through the network and obtain outputs.\n",
    "            inputs = [1.0, 0.0]  # The input/data/voltage values\n",
    "            outputs = self.forward(inputs)\n",
    "\n",
    "            #We compute activity and duration,\n",
    "            activity = sum(outputs)\n",
    "            duration = len(outputs)\n",
    "\n",
    "            #and store activity and duration for the current value of theta.\n",
    "            activity_list.append(activity)\n",
    "            duration_list.append(duration)\n",
    "\n",
    "        return activity_list, duration_list"
   ]
  },
  {
   "cell_type": "code",
   "execution_count": 6,
   "id": "6aec932d",
   "metadata": {},
   "outputs": [],
   "source": [
    "#We define the number of neurons per layer.\n",
    "input_neurons = 2\n",
    "hidden_neurons = 4\n",
    "output_neurons = 2\n",
    "\n",
    "#We define weights for the hidden layer.\n",
    "hidden_weights = [\n",
    "    [0.1, 0.2],  #Weights for neuron 1\n",
    "    [0.1, 0.2],  #Weights for neuron 2\n",
    "    [0.3, 0.2],  #Weights for neuron 3\n",
    "    [0.4, 0.5]   #Weights for neuron 4\n",
    "]\n",
    "\n",
    "#We define weights for the output layer.\n",
    "output_weights = [\n",
    "    [0.3, 0.5, 0.2, 0.5],  #Weights for neuron 1\n",
    "    [0.1, 0.4, 0.6, 0.3]   #Weights for neuron 2\n",
    "]\n",
    "\n",
    "#We define thresholds for the hidden and output layers\n",
    "threshold_hidden = 0.5\n",
    "threshold_output = 0.7\n",
    "\n",
    "#We define leak factors for the hidden and output layers\n",
    "leak_hidden = 0.8\n",
    "leak_output = 0.9\n",
    "\n",
    "#Weereate the neural network \n",
    "network = NeuralNetwork(hidden_weights, output_weights, threshold_hidden, threshold_output, leak_hidden, leak_output)\n",
    "\n",
    "#Here we define the parameter values for theta.\n",
    "theta_values = np.linspace(0, 1, 10)  #10 values between 0 and 1\n",
    "\n",
    "#We simulate the model for each value of theta.\n",
    "activity_list, duration_list = network.simulate(theta_values)"
   ]
  },
  {
   "cell_type": "code",
   "execution_count": 7,
   "id": "494664fe",
   "metadata": {},
   "outputs": [
    {
     "data": {
      "image/png": "[encoded data removed]",
      "text/plain": [
       "<Figure size 1000x400 with 2 Axes>"
      ]
     },
     "metadata": {},
     "output_type": "display_data"
    }
   ],
   "source": [
    "#We plot activity and duration against parameter values.\n",
    "plt.figure(figsize=(10, 4))\n",
    "\n",
    "#We plot activity\n",
    "plt.subplot(1, 2, 1)  #We create a subplot with 1 row, 2 columns, and activate the first subplot\n",
    "plt.plot(theta_values, activity_list)  #We plot theta_values on the x-axis and activity_list on the y-axis\n",
    "plt.xlabel('Theta')  #We set the x-axis label,\n",
    "plt.ylabel('Activity')  #and the y-axis label.\n",
    "plt.title('Activity vs. Theta')  #We name it.\n",
    "\n",
    "plt.subplot(1, 2, 2)  #Activate the second subplot.\n",
    "plt.plot(theta_values, duration_list)  #Plot theta_values on the x-axis and duration_list on the y-axis.\n",
    "plt.xlabel('Theta')  #We set the x-axis label,\n",
    "plt.ylabel('Duration')  #and y-axis label.\n",
    "plt.title('Duration vs. Theta') #We name the second one. \n",
    "\n",
    "plt.tight_layout()  #We adjust subplot parameters to give specified padding,\n",
    "plt.show()  #and show the plot."
   ]
  },
  {
   "cell_type": "code",
   "execution_count": null,
   "id": "58ebdcdd",
   "metadata": {},
   "outputs": [],
   "source": []
  }
 ],
 "metadata": {
  "kernelspec": {
   "display_name": "Python 3 (ipykernel)",
   "language": "python",
   "name": "python3"
  },
  "language_info": {
   "codemirror_mode": {
    "name": "ipython",
    "version": 3
   },
   "file_extension": ".py",
   "mimetype": "text/x-python",
   "name": "python",
   "nbconvert_exporter": "python",
   "pygments_lexer": "ipython3",
   "version": "3.10.7"
  }
 },
 "nbformat": 4,
 "nbformat_minor": 5
}
