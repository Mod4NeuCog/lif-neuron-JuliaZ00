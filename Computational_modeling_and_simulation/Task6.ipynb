{
 "cells": [
  {
   "cell_type": "markdown",
   "id": "a388a2e6",
   "metadata": {},
   "source": [
    "Task:\n",
    "Rewrite existing code to represent states, variables, I, O, etc.\n",
    "Using an OO approach add the elements of your experimental frame: \n",
    "class, IO, variables, connections to your IF neural network, etc.\n",
    "\n",
    "\n",
    "Propose a UML diagram of your whole code"
   ]
  },
  {
   "cell_type": "code",
   "execution_count": null,
   "id": "9370f128",
   "metadata": {},
   "outputs": [],
   "source": [
    "import numpy as np\n",
    "import matplotlib.pyplot as plt"
   ]
  },
  {
   "cell_type": "code",
   "execution_count": null,
   "id": "34283249",
   "metadata": {},
   "outputs": [],
   "source": [
    "class Neuron:\n",
    "    def __init__(self, weights, threshold):\n",
    "        self.weights = weights  #The weights of the neuron's inputs\n",
    "        self.threshold = threshold  #The threshold for firing\n",
    "        self.membrane_potential = 0.0  #The membrane potential of the neuron\n",
    "\n",
    "    def integrate(self, inputs):\n",
    "        total = sum(w * x for w, x in zip(self.weights, inputs))  #It calculates the weighted sum of inputs.\n",
    "        self.membrane_potential += total  #We integrate the inputs into the membrane potential.\n",
    "\n",
    "    def fire(self):\n",
    "        output = int(self.membrane_potential >= self.threshold)  #It checks if the neuron fires based on the threshold.\n",
    "        self.membrane_potential = 0.0  #reset the membrane potential,\n",
    "        return output  #and return the firing output."
   ]
  },
  {
   "cell_type": "code",
   "execution_count": null,
   "id": "98401307",
   "metadata": {},
   "outputs": [],
   "source": [
    "class NeuralNetwork:\n",
    "    def __init__(self, hidden_weights, output_weights, hidden_threshold, output_threshold):\n",
    "        self.hidden_neurons = []  #List to store hidden neurons\n",
    "        self.output_neurons = []  #List to store output neurons\n",
    "\n",
    "        #We create and initialize hidden neurons with given weights and threshold.\n",
    "        for w in hidden_weights:\n",
    "            neuron = Neuron(w, hidden_threshold)\n",
    "            self.hidden_neurons.append(neuron)\n",
    "\n",
    "        #We create and initialize output neurons with given weights and threshold.\n",
    "        for w in output_weights:\n",
    "            neuron = Neuron(w, output_threshold)\n",
    "            self.output_neurons.append(neuron)\n",
    "\n",
    "    def forward(self, inputs):\n",
    "        hidden_outputs = []\n",
    "        for neuron in self.hidden_neurons:\n",
    "            neuron.integrate(inputs)  #We integrate inputs for each hidden neuron.\n",
    "            hidden_outputs.append(neuron.fire())  #We fire the hidden neuron and store its output.\n",
    "\n",
    "        output_outputs = []\n",
    "        for neuron in self.output_neurons:\n",
    "            neuron.integrate(hidden_outputs)  #We integrate hidden outputs for each output neuron,\n",
    "            output_outputs.append(neuron.fire())  #and fire the output neuron and store its output.\n",
    "\n",
    "        return output_outputs  #We return the output of the neural network.\n",
    "\n",
    "    def simulate(self, theta_values):\n",
    "        activity_list = []  # List to store activity values\n",
    "        duration_list = []  # List to store duration values\n",
    "\n",
    "        for theta in theta_values:\n",
    "            for neuron in self.hidden_neurons + self.output_neurons:\n",
    "                neuron.threshold = neuron.threshold * theta  #We adjust the neuron thresholds.\n",
    "\n",
    "            inputs = [1, 0]  #We define inputs/ inf/ voltage\n",
    "            outputs = self.forward(inputs)  #We forward the inputs through the network.\n",
    "\n",
    "            activity = sum(outputs)  #We calculate the total activity,\n",
    "            duration = len(outputs)  #We calculate the duration of the activity.\n",
    "\n",
    "            activity_list.append(activity)  #We add activity value to the list.\n",
    "            duration_list.append(duration)  #We add duration value to the list.\n",
    "\n",
    "        return activity_list, duration_list  #We return the activity and duration."
   ]
  },
  {
   "cell_type": "code",
   "execution_count": null,
   "id": "f657d83b",
   "metadata": {},
   "outputs": [],
   "source": [
    "class Experiment:\n",
    "    def __init__(self, network, theta_values):\n",
    "        self.network = network  #The neural network for the experiment\n",
    "        self.theta_values = theta_values  #The parameter values for theta\n",
    "\n",
    "    def run(self):\n",
    "        activity_list, duration_list = self.network.simulate(self.theta_values)  #Here we simulate the network,\n",
    "        self.plot_results(activity_list, duration_list)  #and plot the results.\n",
    "\n",
    "    def plot_results(self, activity_list, duration_list):\n",
    "        plt.figure(figsize=(10, 4))\n",
    "        plt.subplot(1, 2, 1)\n",
    "        plt.plot(self.theta_values, activity_list)  #here we plot activity vs theta\n",
    "        plt.xlabel('Theta')\n",
    "        plt.ylabel('Activity')\n",
    "        plt.title('Activity vs. Theta')\n",
    "\n",
    "        plt.subplot(1, 2, 2)\n",
    "        plt.plot(self.theta_values, duration_list)  # here we plot duration vs theta\n",
    "        plt.xlabel('Theta')\n",
    "        plt.ylabel('Duration')\n",
    "        plt.title('Duration vs. Theta')\n",
    "\n",
    "        plt.tight_layout()\n",
    "        plt.show()"
   ]
  },
  {
   "cell_type": "code",
   "execution_count": null,
   "id": "dac5ba21",
   "metadata": {},
   "outputs": [],
   "source": [
    "#We define the number of neurons per layer.\n",
    "input_neurons = 2\n",
    "hidden_neurons = 4\n",
    "output_neurons = 2\n",
    "\n",
    "#We define weights for the hidden layer.\n",
    "hidden_weights = [\n",
    "    [0.1, 0.2],  #Weights for neuron 1\n",
    "    [0.1, 0.2],  #Weights for neuron 2\n",
    "    [0.3, 0.2],  #Weights for neuron 3\n",
    "    [0.4, 0.5]   #Weights for neuron 4\n",
    "]\n",
    "\n",
    "#We define weights for the output layer\n",
    "output_weights = [\n",
    "    [0.3, 0.5, 0.2, 0.5],  #Weights for neuron 1\n",
    "    [0.1, 0.4, 0.6, 0.3]   #Weights for neuron 2\n",
    "]\n",
    "\n",
    "#We define thresholds for the hidden and output layers.\n",
    "hidden_threshold = 0.5\n",
    "output_threshold = 0.7\n",
    "\n",
    "#The parameter values for theta\n",
    "theta_values = np.linspace(0, 1, 10)  #in this case 10 values between 0 and 1\n",
    "\n",
    "#We create the neural network with the provided parameters.\n",
    "network = NeuralNetwork(hidden_weights, output_weights, hidden_threshold, output_threshold)\n",
    "\n",
    "#Finally, create the experiment and run it.\n",
    "experiment = Experiment(network, theta_values)\n",
    "experiment.run()\n"
   ]
  },
  {
   "attachments": {
    "image.png": {
     "image/png": "[encoded data removed]"
    }
   },
   "cell_type": "markdown",
   "id": "6165ead7",
   "metadata": {},
   "source": [
    "UML Diagram\n",
    "![image.png](attachment:image.png)"
   ]
  },
  {
   "cell_type": "markdown",
   "id": "5fc5a6a5",
   "metadata": {},
   "source": [
    "The class Neuron represents an individual neuron in the network, with attributes for weights, threshold, and membrane potential.\n",
    "Relationship of Neuron class: composition with Neural Network \n",
    "The diagram shows the relationships between the classes, with the Experiment class having a composition relationship with the NeuralNetwork class, and the NeuralNetwork class having composition relationships with the Neuron class.\n",
    "\n",
    "\n",
    "The class Experiment represents an experiment that runs the neural network simulation with different theta values and plots the results.\n",
    "Relationship of Experiment class: composition with Neural Network \n",
    "\n",
    "NeuralNetwork represents a neural network composed of hidden and output layers, each containing multiple neurons.\n",
    "Relationship of Neural Netwok: composition with Neuron and Experiment\n",
    "\n",
    "'+' functions:\n",
    "\n",
    "\n",
    "- Forward funtion in the NeuralNetwork class performs the forward path through the network\n",
    "- Integrate function in the Neuron class calculates the weighted sum of inputs and the fire method checks if the threshold is exceeded."
   ]
  },
  {
   "cell_type": "code",
   "execution_count": null,
   "id": "8fb4b297",
   "metadata": {},
   "outputs": [],
   "source": []
  }
 ],
 "metadata": {
  "kernelspec": {
   "display_name": "Python 3 (ipykernel)",
   "language": "python",
   "name": "python3"
  },
  "language_info": {
   "codemirror_mode": {
    "name": "ipython",
    "version": 3
   },
   "file_extension": ".py",
   "mimetype": "text/x-python",
   "name": "python",
   "nbconvert_exporter": "python",
   "pygments_lexer": "ipython3",
   "version": "3.10.7"
  }
 },
 "nbformat": 4,
 "nbformat_minor": 5
}
