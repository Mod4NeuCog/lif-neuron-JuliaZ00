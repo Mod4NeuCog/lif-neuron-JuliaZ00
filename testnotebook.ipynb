{
 "cells": [
  {
   "cell_type": "code",
   "execution_count": 2,
   "id": "4fa554c3",
   "metadata": {},
   "outputs": [
    {
     "name": "stdout",
     "output_type": "stream",
     "text": [
      "The initial membrane is -75\n",
      "And is spikes , now the membrane is:  -55\n",
      "The initial membrane is -75\n",
      "And is spikes , now the membrane is:  -55\n",
      "The initial membrane is -75\n",
      "And is spikes , now the membrane is:  -55\n",
      "The initial membrane is -75\n",
      "And is spikes , now the membrane is:  -55\n",
      "The initial membrane is -75\n",
      "And is spikes , now the membrane is:  -55\n",
      "-70 -50\n",
      "The initial membrane is -70\n",
      "And is spikes , now the membrane is:  -50\n",
      "The initial membrane is -70\n",
      "And is spikes , now the membrane is:  -50\n",
      "The initial membrane is -70\n",
      "And is spikes , now the membrane is:  -50\n",
      "The initial membrane is -70\n",
      "And is spikes , now the membrane is:  -50\n",
      "The initial membrane is -70\n",
      "And is spikes , now the membrane is:  -50\n",
      "The initial membrane is -70\n",
      "And is spikes , now the membrane is:  -50\n",
      "The initial membrane is -70\n",
      "And is spikes , now the membrane is:  -50\n",
      "The initial membrane is -70\n",
      "And is spikes , now the membrane is:  -50\n",
      "The initial membrane is -70\n",
      "And is spikes , now the membrane is:  -50\n",
      "The initial membrane is -70\n",
      "And is spikes , now the membrane is:  -50\n"
     ]
    }
   ],
   "source": [
    "from neuronclass import Neuron\n",
    "from InheritanceNeuron import OvoidNeuron\n",
    "\n",
    "Vm1=-75\n",
    "Vt1=-55\n",
    "Vm2=-70\n",
    "Vt2=-50\n",
    "\n",
    "bbb=Neuron(Vm1,Vt1)\n",
    "bbb.neuronspike()\n",
    "\n",
    "aaa = OvoidNeuron(Vm2,Vt2)\n",
    "aaa.testfuncs()\n",
    "aaa.neuronspike()\n",
    "\n",
    "\n",
    "\n"
   ]
  },
  {
   "cell_type": "code",
   "execution_count": null,
   "id": "7db25df0",
   "metadata": {},
   "outputs": [],
   "source": []
  },
  {
   "cell_type": "code",
   "execution_count": null,
   "id": "fae56bcc",
   "metadata": {},
   "outputs": [],
   "source": []
  }
 ],
 "metadata": {
  "kernelspec": {
   "display_name": "Python 3 (ipykernel)",
   "language": "python",
   "name": "python3"
  },
  "language_info": {
   "codemirror_mode": {
    "name": "ipython",
    "version": 3
   },
   "file_extension": ".py",
   "mimetype": "text/x-python",
   "name": "python",
   "nbconvert_exporter": "python",
   "pygments_lexer": "ipython3",
   "version": "3.10.7"
  }
 },
 "nbformat": 4,
 "nbformat_minor": 5
}
